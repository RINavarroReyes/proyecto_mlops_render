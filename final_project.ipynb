{
 "cells": [
  {
   "attachments": {},
   "cell_type": "markdown",
   "metadata": {},
   "source": [
    "##### Importamos las librerias Necesarias"
   ]
  },
  {
   "cell_type": "code",
   "execution_count": 342,
   "metadata": {},
   "outputs": [],
   "source": [
    "import pandas as pd\n",
    "import re\n",
    "import numpy as np\n",
    "from datetime import datetime"
   ]
  },
  {
   "attachments": {},
   "cell_type": "markdown",
   "metadata": {},
   "source": [
    "##### Creamos el Dataset con el archivo movies_dataset.csv"
   ]
  },
  {
   "cell_type": "code",
   "execution_count": 343,
   "metadata": {},
   "outputs": [
    {
     "name": "stderr",
     "output_type": "stream",
     "text": [
      "/var/folders/mm/qj2l_7611k7cdqq50jvw32nc0000gn/T/ipykernel_2418/2393210234.py:1: DtypeWarning: Columns (10) have mixed types. Specify dtype option on import or set low_memory=False.\n",
      "  df = pd.read_csv('Dataset/movies_dataset.csv')\n"
     ]
    }
   ],
   "source": [
    "df = pd.read_csv('Dataset/movies_dataset.csv')"
   ]
  },
  {
   "cell_type": "code",
   "execution_count": 344,
   "metadata": {},
   "outputs": [],
   "source": [
    "df = df.drop(df[df['id'] == '1997-08-20'].index)\n",
    "df = df.drop(df[df['id'] == '2012-09-29'].index)\n",
    "df = df.drop(df[df['id'] == '2014-01-01'].index)"
   ]
  },
  {
   "attachments": {},
   "cell_type": "markdown",
   "metadata": {},
   "source": [
    "1. Algunos campos, como belongs_to_collection, production_companies y otros (ver diccionario de datos) están anidados, esto es o bien tienen un diccionario o una lista como valores en cada fila, ¡deberán desanidarlos para poder y unirlos al dataset de nuevo hacer alguna de las consultas de la API! O bien buscar la manera de acceder a esos datos sin desanidarlos."
   ]
  },
  {
   "cell_type": "code",
   "execution_count": 345,
   "metadata": {},
   "outputs": [
    {
     "data": {
      "text/plain": [
       "0              Toy Story Collection\n",
       "1                                  \n",
       "2         Grumpy Old Men Collection\n",
       "3                                  \n",
       "4    Father of the Bride Collection\n",
       "Name: belongs_to_collection, dtype: object"
      ]
     },
     "execution_count": 345,
     "metadata": {},
     "output_type": "execute_result"
    }
   ],
   "source": [
    "# Definir el patrón de expresión regular\n",
    "patron = r\"'name': '(.*?)',\"\n",
    "\n",
    "# Función para extraer el nombre usando expresiones regulares\n",
    "def extraer_nombre_coleccion(valor):\n",
    "    if pd.isnull(valor):\n",
    "        return \"\"\n",
    "    resultado = re.search(patron, valor)\n",
    "    if resultado:\n",
    "        return resultado.group(1)\n",
    "    else:\n",
    "        return \"\"\n",
    "\n",
    "# Aplicar la función a toda la columna 'belongs_to_collection' y asignar los resultados a la misma columna\n",
    "df['belongs_to_collection'] = df['belongs_to_collection'].apply(extraer_nombre_coleccion)\n",
    "\n",
    "# Imprimir el DataFrame resultante\n",
    "df['belongs_to_collection'].head()"
   ]
  },
  {
   "cell_type": "code",
   "execution_count": 346,
   "metadata": {},
   "outputs": [
    {
     "data": {
      "text/plain": [
       "0     [Animation, Comedy]\n",
       "1    [Adventure, Fantasy]\n",
       "2               [Romance]\n",
       "3         [Comedy, Drama]\n",
       "4                        \n",
       "Name: genres, dtype: object"
      ]
     },
     "execution_count": 346,
     "metadata": {},
     "output_type": "execute_result"
    }
   ],
   "source": [
    "patron = r\"'name': '(.*?)'},\"\n",
    "\n",
    "def extraer_nombres_generos(valor):\n",
    "    if pd.isnull(valor):\n",
    "        return \"\"\n",
    "    resultado = re.findall(patron, valor)\n",
    "    if resultado:\n",
    "        return resultado\n",
    "    else:\n",
    "        return \"\"\n",
    "\n",
    "# Aplicar la función a toda la columna 'genres' y asignar los resultados a la misma columna\n",
    "df['genres'] = df['genres'].apply(extraer_nombres_generos)\n",
    "\n",
    "# Imprimir el DataFrame resultante\n",
    "df['genres'].head()"
   ]
  },
  {
   "cell_type": "code",
   "execution_count": 347,
   "metadata": {},
   "outputs": [
    {
     "data": {
      "text/plain": [
       "0                                [Pixar Animation Studios]\n",
       "1        [TriStar Pictures, Teitler Film, Interscope Co...\n",
       "2                           [Warner Bros., Lancaster Gate]\n",
       "3                 [Twentieth Century Fox Film Corporation]\n",
       "4             [Sandollar Productions, Touchstone Pictures]\n",
       "                               ...                        \n",
       "45461                                                     \n",
       "45462                                        [Sine Olivia]\n",
       "45463                            [American World Pictures]\n",
       "45464                                          [Yermoliev]\n",
       "45465                                                     \n",
       "Name: production_companies, Length: 45463, dtype: object"
      ]
     },
     "execution_count": 347,
     "metadata": {},
     "output_type": "execute_result"
    }
   ],
   "source": [
    "patron = r\"'name': '(.*?)',\"\n",
    "\n",
    "def extraer_nombres_companies(valor):\n",
    "    if pd.isnull(valor):\n",
    "        return \"\"\n",
    "    resultado = re.findall(patron, valor)\n",
    "    if resultado:\n",
    "        return resultado\n",
    "    else:\n",
    "        return \"\"\n",
    "\n",
    "# Aplicar la función a toda la columna 'genres' y asignar los resultados a la misma columna\n",
    "df['production_companies'] = df['production_companies'].apply(extraer_nombres_companies)\n",
    "# Imprimir el DataFrame resultante\n",
    "df['production_companies']"
   ]
  },
  {
   "cell_type": "code",
   "execution_count": 348,
   "metadata": {},
   "outputs": [
    {
     "data": {
      "text/plain": [
       "0        [United States of America]\n",
       "1        [United States of America]\n",
       "2        [United States of America]\n",
       "3        [United States of America]\n",
       "4        [United States of America]\n",
       "                    ...            \n",
       "45461                        [Iran]\n",
       "45462                 [Philippines]\n",
       "45463    [United States of America]\n",
       "45464                      [Russia]\n",
       "45465              [United Kingdom]\n",
       "Name: production_countries, Length: 45463, dtype: object"
      ]
     },
     "execution_count": 348,
     "metadata": {},
     "output_type": "execute_result"
    }
   ],
   "source": [
    "patron = r\"name': '(.*?)'}\"\n",
    "\n",
    "def extraer_nombres_countries(valor):\n",
    "    if pd.isnull(valor):\n",
    "        return \"\"\n",
    "    resultado = re.findall(patron, valor)\n",
    "    if resultado:\n",
    "        return resultado\n",
    "    else:\n",
    "        return \"\"\n",
    "\n",
    "# Aplicar la función a toda la columna 'genres' y asignar los resultados a la misma columna\n",
    "df['production_countries'] = df['production_countries'].apply(extraer_nombres_countries)\n",
    "\n",
    "# Imprimir el DataFrame resultante\n",
    "df['production_countries']"
   ]
  },
  {
   "cell_type": "code",
   "execution_count": 349,
   "metadata": {},
   "outputs": [
    {
     "data": {
      "text/plain": [
       "0                  [English]\n",
       "1        [English, Français]\n",
       "2                  [English]\n",
       "3                  [English]\n",
       "4                  [English]\n",
       "                ...         \n",
       "45461                [فارسی]\n",
       "45462                     []\n",
       "45463              [English]\n",
       "45464                       \n",
       "45465              [English]\n",
       "Name: spoken_languages, Length: 45463, dtype: object"
      ]
     },
     "execution_count": 349,
     "metadata": {},
     "output_type": "execute_result"
    }
   ],
   "source": [
    "patron = r\"name': '(.*?)'}\"\n",
    "\n",
    "def extraer_nombres_languajes(valor):\n",
    "    if pd.isnull(valor):\n",
    "        return ''\n",
    "    resultado = re.findall(patron, valor)\n",
    "    if resultado:\n",
    "        return resultado\n",
    "    else:\n",
    "        return ''\n",
    "\n",
    "# Aplicar la función a toda la columna 'genres' y asignar los resultados a la misma columna\n",
    "df['spoken_languages'] = df['spoken_languages'].apply(extraer_nombres_languajes)\n",
    "\n",
    "# Imprimir el DataFrame resultante\n",
    "df['spoken_languages']"
   ]
  },
  {
   "attachments": {},
   "cell_type": "markdown",
   "metadata": {},
   "source": [
    "2. Los valores nulos de los campos revenue, budget deben ser rellenados por el número 0."
   ]
  },
  {
   "cell_type": "code",
   "execution_count": 350,
   "metadata": {},
   "outputs": [
    {
     "name": "stdout",
     "output_type": "stream",
     "text": [
      "nulos budget: 0 nulos revenue: 3\n"
     ]
    }
   ],
   "source": [
    "num_nulos_budget = df['budget'].isnull().sum()\n",
    "num_nulos_revenue = df['revenue'].isnull().sum()\n",
    "print(\"nulos budget:\",num_nulos_budget,\"nulos revenue:\", num_nulos_revenue)"
   ]
  },
  {
   "cell_type": "code",
   "execution_count": 351,
   "metadata": {},
   "outputs": [],
   "source": [
    "df['budget'] = df['budget'].fillna(0)\n",
    "df['revenue'] = df['revenue'].fillna(0)"
   ]
  },
  {
   "cell_type": "code",
   "execution_count": 352,
   "metadata": {},
   "outputs": [
    {
     "name": "stdout",
     "output_type": "stream",
     "text": [
      "nulos budget: 0 nulos revenue: 0\n"
     ]
    }
   ],
   "source": [
    "num_nulos_budget = df['budget'].isnull().sum()\n",
    "num_nulos_revenue = df['revenue'].isnull().sum()\n",
    "print(\"nulos budget:\",num_nulos_budget,\"nulos revenue:\", num_nulos_revenue)"
   ]
  },
  {
   "attachments": {},
   "cell_type": "markdown",
   "metadata": {},
   "source": [
    "3. Los valores nulos del campo release date deben eliminarse."
   ]
  },
  {
   "cell_type": "code",
   "execution_count": 353,
   "metadata": {},
   "outputs": [
    {
     "data": {
      "text/plain": [
       "87"
      ]
     },
     "execution_count": 353,
     "metadata": {},
     "output_type": "execute_result"
    }
   ],
   "source": [
    "num_nulos_release_date = df['release_date'].isnull().sum()\n",
    "num_nulos_release_date"
   ]
  },
  {
   "cell_type": "code",
   "execution_count": 354,
   "metadata": {},
   "outputs": [],
   "source": [
    "df= df.dropna(subset=['release_date'])"
   ]
  },
  {
   "cell_type": "code",
   "execution_count": 355,
   "metadata": {},
   "outputs": [
    {
     "data": {
      "text/plain": [
       "0"
      ]
     },
     "execution_count": 355,
     "metadata": {},
     "output_type": "execute_result"
    }
   ],
   "source": [
    "num_nulos_release_date = df['release_date'].isnull().sum()\n",
    "num_nulos_release_date"
   ]
  },
  {
   "attachments": {},
   "cell_type": "markdown",
   "metadata": {},
   "source": [
    "4. De haber fechas, deberán tener el formato AAAA-mm-dd, además deberán crear la columna release_year donde extraerán el año de la fecha de estreno."
   ]
  },
  {
   "cell_type": "code",
   "execution_count": 356,
   "metadata": {},
   "outputs": [
    {
     "data": {
      "text/plain": [
       "0        1995-10-30\n",
       "1        1995-12-15\n",
       "2        1995-12-22\n",
       "3        1995-12-22\n",
       "4        1995-02-10\n",
       "            ...    \n",
       "45460    1991-05-13\n",
       "45462    2011-11-17\n",
       "45463    2003-08-01\n",
       "45464    1917-10-21\n",
       "45465    2017-06-09\n",
       "Name: release_date, Length: 45376, dtype: object"
      ]
     },
     "execution_count": 356,
     "metadata": {},
     "output_type": "execute_result"
    }
   ],
   "source": [
    "# Definir función para convertir la fecha en formato de cadena\n",
    "def voltear_fecha(fecha_str):\n",
    "    try:\n",
    "        fecha_obj = datetime.strptime(fecha_str, \"%d-%m-%Y\")\n",
    "        return fecha_obj.strftime(\"%Y-%m-%d\")\n",
    "    except ValueError:\n",
    "        return fecha_str\n",
    "\n",
    "# Aplicar la función a toda la columna 'Fecha'\n",
    "df['release_date'] = df['release_date'].apply(voltear_fecha)\n",
    "\n",
    "# Imprimir el DataFrame resultante\n",
    "df['release_date']"
   ]
  },
  {
   "attachments": {},
   "cell_type": "markdown",
   "metadata": {},
   "source": [
    "5. Crear la columna con el retorno de inversión, llamada return con los campos revenue y budget, dividiendo estas dos últimas revenue / budget, cuando no hay datos disponibles para calcularlo, deberá tomar el valor 0."
   ]
  },
  {
   "cell_type": "code",
   "execution_count": 357,
   "metadata": {},
   "outputs": [],
   "source": [
    "# Definir función para calcular el retorno\n",
    "def calcular_retorno(row):\n",
    "    if float(row['revenue']) == 0 or float(row['budget']) == 0:\n",
    "        return 0\n",
    "    else:\n",
    "        return float(row['revenue']) / float(row['budget'])\n",
    "    \n",
    "df['return'] = df.apply(calcular_retorno, axis=1)"
   ]
  },
  {
   "attachments": {},
   "cell_type": "markdown",
   "metadata": {},
   "source": [
    "6. Eliminar las columnas que no serán utilizadas, video,imdb_id,adult,original_title,poster_path y homepage."
   ]
  },
  {
   "cell_type": "code",
   "execution_count": 358,
   "metadata": {},
   "outputs": [],
   "source": [
    "df = df.drop('video', axis=1)\n",
    "df = df.drop('imdb_id', axis=1)\n",
    "df = df.drop('adult', axis=1)\n",
    "df = df.drop('original_title', axis=1)\n",
    "df = df.drop('poster_path', axis=1)\n",
    "df = df.drop('homepage', axis=1)"
   ]
  },
  {
   "attachments": {},
   "cell_type": "markdown",
   "metadata": {},
   "source": [
    "Agregamos la columna de los directores desde el archivo csv de credits."
   ]
  },
  {
   "cell_type": "code",
   "execution_count": 370,
   "metadata": {},
   "outputs": [
    {
     "name": "stdout",
     "output_type": "stream",
     "text": [
      "0           [John Lasseter]\n",
      "1            [Joe Johnston]\n",
      "2           [Howard Deutch]\n",
      "3         [Forest Whitaker]\n",
      "4           [Charles Shyer]\n",
      "                ...        \n",
      "45446          [John Irvin]\n",
      "45447            [Lav Diaz]\n",
      "45448      [Mark L. Lester]\n",
      "45449    [Yakov Protazanov]\n",
      "45450       [Daisy Asquith]\n",
      "Name: director, Length: 45451, dtype: object\n"
     ]
    }
   ],
   "source": [
    "df_credits = pd.read_csv('Dataset/credits.csv')\n",
    "patron = r\"'Director', 'name': '(.*?)', \"\n",
    "\n",
    "def extraer_nombres_director(valor):\n",
    "    if pd.isnull(valor):\n",
    "        return \"\"\n",
    "    resultado = re.findall(patron, valor)\n",
    "    if resultado:\n",
    "        return resultado\n",
    "    else:\n",
    "        return \"\"\n",
    "\n",
    "df['id'] = df['id'].astype(int)\n",
    "df_merged = pd.merge(df, df_credits, on='id')\n",
    "df_merged['director'] = df_merged['crew'].apply(extraer_nombres_director)\n",
    "\n",
    "print(df_merged['director'])"
   ]
  },
  {
   "cell_type": "code",
   "execution_count": 374,
   "metadata": {},
   "outputs": [
    {
     "name": "stdout",
     "output_type": "stream",
     "text": [
      "\n"
     ]
    }
   ],
   "source": [
    "print(df_merged.at[189, 'director'])"
   ]
  },
  {
   "cell_type": "code",
   "execution_count": 376,
   "metadata": {},
   "outputs": [],
   "source": [
    "df_merged = df_merged.drop('cast', axis=1)\n",
    "df_merged = df_merged.drop('crew', axis=1)"
   ]
  },
  {
   "cell_type": "code",
   "execution_count": 361,
   "metadata": {},
   "outputs": [
    {
     "data": {
      "text/html": [
       "<div>\n",
       "<style scoped>\n",
       "    .dataframe tbody tr th:only-of-type {\n",
       "        vertical-align: middle;\n",
       "    }\n",
       "\n",
       "    .dataframe tbody tr th {\n",
       "        vertical-align: top;\n",
       "    }\n",
       "\n",
       "    .dataframe thead th {\n",
       "        text-align: right;\n",
       "    }\n",
       "</style>\n",
       "<table border=\"1\" class=\"dataframe\">\n",
       "  <thead>\n",
       "    <tr style=\"text-align: right;\">\n",
       "      <th></th>\n",
       "      <th>belongs_to_collection</th>\n",
       "      <th>budget</th>\n",
       "      <th>genres</th>\n",
       "      <th>id</th>\n",
       "      <th>original_language</th>\n",
       "      <th>overview</th>\n",
       "      <th>popularity</th>\n",
       "      <th>production_companies</th>\n",
       "      <th>production_countries</th>\n",
       "      <th>release_date</th>\n",
       "      <th>revenue</th>\n",
       "      <th>runtime</th>\n",
       "      <th>spoken_languages</th>\n",
       "      <th>status</th>\n",
       "      <th>tagline</th>\n",
       "      <th>title</th>\n",
       "      <th>vote_average</th>\n",
       "      <th>vote_count</th>\n",
       "      <th>return</th>\n",
       "      <th>director</th>\n",
       "    </tr>\n",
       "  </thead>\n",
       "  <tbody>\n",
       "    <tr>\n",
       "      <th>0</th>\n",
       "      <td>Toy Story Collection</td>\n",
       "      <td>30000000</td>\n",
       "      <td>[Animation, Comedy]</td>\n",
       "      <td>862</td>\n",
       "      <td>en</td>\n",
       "      <td>Led by Woody, Andy's toys live happily in his ...</td>\n",
       "      <td>21.946943</td>\n",
       "      <td>[Pixar Animation Studios]</td>\n",
       "      <td>[United States of America]</td>\n",
       "      <td>1995-10-30</td>\n",
       "      <td>373554033.0</td>\n",
       "      <td>81.0</td>\n",
       "      <td>[English]</td>\n",
       "      <td>Released</td>\n",
       "      <td>NaN</td>\n",
       "      <td>Toy Story</td>\n",
       "      <td>7.7</td>\n",
       "      <td>5415.0</td>\n",
       "      <td>12.451801</td>\n",
       "      <td>[John Lasseter]</td>\n",
       "    </tr>\n",
       "    <tr>\n",
       "      <th>1</th>\n",
       "      <td></td>\n",
       "      <td>65000000</td>\n",
       "      <td>[Adventure, Fantasy]</td>\n",
       "      <td>8844</td>\n",
       "      <td>en</td>\n",
       "      <td>When siblings Judy and Peter discover an encha...</td>\n",
       "      <td>17.015539</td>\n",
       "      <td>[TriStar Pictures, Teitler Film, Interscope Co...</td>\n",
       "      <td>[United States of America]</td>\n",
       "      <td>1995-12-15</td>\n",
       "      <td>262797249.0</td>\n",
       "      <td>104.0</td>\n",
       "      <td>[English, Français]</td>\n",
       "      <td>Released</td>\n",
       "      <td>Roll the dice and unleash the excitement!</td>\n",
       "      <td>Jumanji</td>\n",
       "      <td>6.9</td>\n",
       "      <td>2413.0</td>\n",
       "      <td>4.043035</td>\n",
       "      <td>[Joe Johnston]</td>\n",
       "    </tr>\n",
       "    <tr>\n",
       "      <th>2</th>\n",
       "      <td>Grumpy Old Men Collection</td>\n",
       "      <td>0</td>\n",
       "      <td>[Romance]</td>\n",
       "      <td>15602</td>\n",
       "      <td>en</td>\n",
       "      <td>A family wedding reignites the ancient feud be...</td>\n",
       "      <td>11.7129</td>\n",
       "      <td>[Warner Bros., Lancaster Gate]</td>\n",
       "      <td>[United States of America]</td>\n",
       "      <td>1995-12-22</td>\n",
       "      <td>0.0</td>\n",
       "      <td>101.0</td>\n",
       "      <td>[English]</td>\n",
       "      <td>Released</td>\n",
       "      <td>Still Yelling. Still Fighting. Still Ready for...</td>\n",
       "      <td>Grumpier Old Men</td>\n",
       "      <td>6.5</td>\n",
       "      <td>92.0</td>\n",
       "      <td>0.000000</td>\n",
       "      <td>[Howard Deutch]</td>\n",
       "    </tr>\n",
       "    <tr>\n",
       "      <th>3</th>\n",
       "      <td></td>\n",
       "      <td>16000000</td>\n",
       "      <td>[Comedy, Drama]</td>\n",
       "      <td>31357</td>\n",
       "      <td>en</td>\n",
       "      <td>Cheated on, mistreated and stepped on, the wom...</td>\n",
       "      <td>3.859495</td>\n",
       "      <td>[Twentieth Century Fox Film Corporation]</td>\n",
       "      <td>[United States of America]</td>\n",
       "      <td>1995-12-22</td>\n",
       "      <td>81452156.0</td>\n",
       "      <td>127.0</td>\n",
       "      <td>[English]</td>\n",
       "      <td>Released</td>\n",
       "      <td>Friends are the people who let you be yourself...</td>\n",
       "      <td>Waiting to Exhale</td>\n",
       "      <td>6.1</td>\n",
       "      <td>34.0</td>\n",
       "      <td>5.090760</td>\n",
       "      <td>[Forest Whitaker]</td>\n",
       "    </tr>\n",
       "    <tr>\n",
       "      <th>4</th>\n",
       "      <td>Father of the Bride Collection</td>\n",
       "      <td>0</td>\n",
       "      <td></td>\n",
       "      <td>11862</td>\n",
       "      <td>en</td>\n",
       "      <td>Just when George Banks has recovered from his ...</td>\n",
       "      <td>8.387519</td>\n",
       "      <td>[Sandollar Productions, Touchstone Pictures]</td>\n",
       "      <td>[United States of America]</td>\n",
       "      <td>1995-02-10</td>\n",
       "      <td>76578911.0</td>\n",
       "      <td>106.0</td>\n",
       "      <td>[English]</td>\n",
       "      <td>Released</td>\n",
       "      <td>Just When His World Is Back To Normal... He's ...</td>\n",
       "      <td>Father of the Bride Part II</td>\n",
       "      <td>5.7</td>\n",
       "      <td>173.0</td>\n",
       "      <td>0.000000</td>\n",
       "      <td>[Charles Shyer]</td>\n",
       "    </tr>\n",
       "    <tr>\n",
       "      <th>...</th>\n",
       "      <td>...</td>\n",
       "      <td>...</td>\n",
       "      <td>...</td>\n",
       "      <td>...</td>\n",
       "      <td>...</td>\n",
       "      <td>...</td>\n",
       "      <td>...</td>\n",
       "      <td>...</td>\n",
       "      <td>...</td>\n",
       "      <td>...</td>\n",
       "      <td>...</td>\n",
       "      <td>...</td>\n",
       "      <td>...</td>\n",
       "      <td>...</td>\n",
       "      <td>...</td>\n",
       "      <td>...</td>\n",
       "      <td>...</td>\n",
       "      <td>...</td>\n",
       "      <td>...</td>\n",
       "      <td>...</td>\n",
       "    </tr>\n",
       "    <tr>\n",
       "      <th>45446</th>\n",
       "      <td></td>\n",
       "      <td>0</td>\n",
       "      <td>[Drama, Action]</td>\n",
       "      <td>30840</td>\n",
       "      <td>en</td>\n",
       "      <td>Yet another version of the classic epic, with ...</td>\n",
       "      <td>5.683753</td>\n",
       "      <td>[Westdeutscher Rundfunk (WDR), Working Title F...</td>\n",
       "      <td>[Canada, Germany, United Kingdom, United State...</td>\n",
       "      <td>1991-05-13</td>\n",
       "      <td>0.0</td>\n",
       "      <td>104.0</td>\n",
       "      <td>[English]</td>\n",
       "      <td>Released</td>\n",
       "      <td>NaN</td>\n",
       "      <td>Robin Hood</td>\n",
       "      <td>5.7</td>\n",
       "      <td>26.0</td>\n",
       "      <td>0.000000</td>\n",
       "      <td>[John Irvin]</td>\n",
       "    </tr>\n",
       "    <tr>\n",
       "      <th>45447</th>\n",
       "      <td></td>\n",
       "      <td>0</td>\n",
       "      <td></td>\n",
       "      <td>111109</td>\n",
       "      <td>tl</td>\n",
       "      <td>An artist struggles to finish his work while a...</td>\n",
       "      <td>0.178241</td>\n",
       "      <td>[Sine Olivia]</td>\n",
       "      <td>[Philippines]</td>\n",
       "      <td>2011-11-17</td>\n",
       "      <td>0.0</td>\n",
       "      <td>360.0</td>\n",
       "      <td>[]</td>\n",
       "      <td>Released</td>\n",
       "      <td>NaN</td>\n",
       "      <td>Century of Birthing</td>\n",
       "      <td>9.0</td>\n",
       "      <td>3.0</td>\n",
       "      <td>0.000000</td>\n",
       "      <td>[Lav Diaz]</td>\n",
       "    </tr>\n",
       "    <tr>\n",
       "      <th>45448</th>\n",
       "      <td></td>\n",
       "      <td>0</td>\n",
       "      <td>[Action, Drama]</td>\n",
       "      <td>67758</td>\n",
       "      <td>en</td>\n",
       "      <td>When one of her hits goes wrong, a professiona...</td>\n",
       "      <td>0.903007</td>\n",
       "      <td>[American World Pictures]</td>\n",
       "      <td>[United States of America]</td>\n",
       "      <td>2003-08-01</td>\n",
       "      <td>0.0</td>\n",
       "      <td>90.0</td>\n",
       "      <td>[English]</td>\n",
       "      <td>Released</td>\n",
       "      <td>A deadly game of wits.</td>\n",
       "      <td>Betrayal</td>\n",
       "      <td>3.8</td>\n",
       "      <td>6.0</td>\n",
       "      <td>0.000000</td>\n",
       "      <td>[Mark L. Lester]</td>\n",
       "    </tr>\n",
       "    <tr>\n",
       "      <th>45449</th>\n",
       "      <td></td>\n",
       "      <td>0</td>\n",
       "      <td></td>\n",
       "      <td>227506</td>\n",
       "      <td>en</td>\n",
       "      <td>In a small town live two brothers, one a minis...</td>\n",
       "      <td>0.003503</td>\n",
       "      <td>[Yermoliev]</td>\n",
       "      <td>[Russia]</td>\n",
       "      <td>1917-10-21</td>\n",
       "      <td>0.0</td>\n",
       "      <td>87.0</td>\n",
       "      <td></td>\n",
       "      <td>Released</td>\n",
       "      <td>NaN</td>\n",
       "      <td>Satan Triumphant</td>\n",
       "      <td>0.0</td>\n",
       "      <td>0.0</td>\n",
       "      <td>0.000000</td>\n",
       "      <td>[Yakov Protazanov]</td>\n",
       "    </tr>\n",
       "    <tr>\n",
       "      <th>45450</th>\n",
       "      <td></td>\n",
       "      <td>0</td>\n",
       "      <td></td>\n",
       "      <td>461257</td>\n",
       "      <td>en</td>\n",
       "      <td>50 years after decriminalisation of homosexual...</td>\n",
       "      <td>0.163015</td>\n",
       "      <td></td>\n",
       "      <td>[United Kingdom]</td>\n",
       "      <td>2017-06-09</td>\n",
       "      <td>0.0</td>\n",
       "      <td>75.0</td>\n",
       "      <td>[English]</td>\n",
       "      <td>Released</td>\n",
       "      <td>NaN</td>\n",
       "      <td>Queerama</td>\n",
       "      <td>0.0</td>\n",
       "      <td>0.0</td>\n",
       "      <td>0.000000</td>\n",
       "      <td>[Daisy Asquith]</td>\n",
       "    </tr>\n",
       "  </tbody>\n",
       "</table>\n",
       "<p>45451 rows × 20 columns</p>\n",
       "</div>"
      ],
      "text/plain": [
       "                belongs_to_collection    budget                genres      id  \\\n",
       "0                Toy Story Collection  30000000   [Animation, Comedy]     862   \n",
       "1                                      65000000  [Adventure, Fantasy]    8844   \n",
       "2           Grumpy Old Men Collection         0             [Romance]   15602   \n",
       "3                                      16000000       [Comedy, Drama]   31357   \n",
       "4      Father of the Bride Collection         0                         11862   \n",
       "...                               ...       ...                   ...     ...   \n",
       "45446                                         0       [Drama, Action]   30840   \n",
       "45447                                         0                        111109   \n",
       "45448                                         0       [Action, Drama]   67758   \n",
       "45449                                         0                        227506   \n",
       "45450                                         0                        461257   \n",
       "\n",
       "      original_language                                           overview  \\\n",
       "0                    en  Led by Woody, Andy's toys live happily in his ...   \n",
       "1                    en  When siblings Judy and Peter discover an encha...   \n",
       "2                    en  A family wedding reignites the ancient feud be...   \n",
       "3                    en  Cheated on, mistreated and stepped on, the wom...   \n",
       "4                    en  Just when George Banks has recovered from his ...   \n",
       "...                 ...                                                ...   \n",
       "45446                en  Yet another version of the classic epic, with ...   \n",
       "45447                tl  An artist struggles to finish his work while a...   \n",
       "45448                en  When one of her hits goes wrong, a professiona...   \n",
       "45449                en  In a small town live two brothers, one a minis...   \n",
       "45450                en  50 years after decriminalisation of homosexual...   \n",
       "\n",
       "      popularity                               production_companies  \\\n",
       "0      21.946943                          [Pixar Animation Studios]   \n",
       "1      17.015539  [TriStar Pictures, Teitler Film, Interscope Co...   \n",
       "2        11.7129                     [Warner Bros., Lancaster Gate]   \n",
       "3       3.859495           [Twentieth Century Fox Film Corporation]   \n",
       "4       8.387519       [Sandollar Productions, Touchstone Pictures]   \n",
       "...          ...                                                ...   \n",
       "45446   5.683753  [Westdeutscher Rundfunk (WDR), Working Title F...   \n",
       "45447   0.178241                                      [Sine Olivia]   \n",
       "45448   0.903007                          [American World Pictures]   \n",
       "45449   0.003503                                        [Yermoliev]   \n",
       "45450   0.163015                                                      \n",
       "\n",
       "                                    production_countries release_date  \\\n",
       "0                             [United States of America]   1995-10-30   \n",
       "1                             [United States of America]   1995-12-15   \n",
       "2                             [United States of America]   1995-12-22   \n",
       "3                             [United States of America]   1995-12-22   \n",
       "4                             [United States of America]   1995-02-10   \n",
       "...                                                  ...          ...   \n",
       "45446  [Canada, Germany, United Kingdom, United State...   1991-05-13   \n",
       "45447                                      [Philippines]   2011-11-17   \n",
       "45448                         [United States of America]   2003-08-01   \n",
       "45449                                           [Russia]   1917-10-21   \n",
       "45450                                   [United Kingdom]   2017-06-09   \n",
       "\n",
       "           revenue  runtime     spoken_languages    status  \\\n",
       "0      373554033.0     81.0            [English]  Released   \n",
       "1      262797249.0    104.0  [English, Français]  Released   \n",
       "2              0.0    101.0            [English]  Released   \n",
       "3       81452156.0    127.0            [English]  Released   \n",
       "4       76578911.0    106.0            [English]  Released   \n",
       "...            ...      ...                  ...       ...   \n",
       "45446          0.0    104.0            [English]  Released   \n",
       "45447          0.0    360.0                   []  Released   \n",
       "45448          0.0     90.0            [English]  Released   \n",
       "45449          0.0     87.0                       Released   \n",
       "45450          0.0     75.0            [English]  Released   \n",
       "\n",
       "                                                 tagline  \\\n",
       "0                                                    NaN   \n",
       "1              Roll the dice and unleash the excitement!   \n",
       "2      Still Yelling. Still Fighting. Still Ready for...   \n",
       "3      Friends are the people who let you be yourself...   \n",
       "4      Just When His World Is Back To Normal... He's ...   \n",
       "...                                                  ...   \n",
       "45446                                                NaN   \n",
       "45447                                                NaN   \n",
       "45448                             A deadly game of wits.   \n",
       "45449                                                NaN   \n",
       "45450                                                NaN   \n",
       "\n",
       "                             title  vote_average  vote_count     return  \\\n",
       "0                        Toy Story           7.7      5415.0  12.451801   \n",
       "1                          Jumanji           6.9      2413.0   4.043035   \n",
       "2                 Grumpier Old Men           6.5        92.0   0.000000   \n",
       "3                Waiting to Exhale           6.1        34.0   5.090760   \n",
       "4      Father of the Bride Part II           5.7       173.0   0.000000   \n",
       "...                            ...           ...         ...        ...   \n",
       "45446                   Robin Hood           5.7        26.0   0.000000   \n",
       "45447          Century of Birthing           9.0         3.0   0.000000   \n",
       "45448                     Betrayal           3.8         6.0   0.000000   \n",
       "45449             Satan Triumphant           0.0         0.0   0.000000   \n",
       "45450                     Queerama           0.0         0.0   0.000000   \n",
       "\n",
       "                 director  \n",
       "0         [John Lasseter]  \n",
       "1          [Joe Johnston]  \n",
       "2         [Howard Deutch]  \n",
       "3       [Forest Whitaker]  \n",
       "4         [Charles Shyer]  \n",
       "...                   ...  \n",
       "45446        [John Irvin]  \n",
       "45447          [Lav Diaz]  \n",
       "45448    [Mark L. Lester]  \n",
       "45449  [Yakov Protazanov]  \n",
       "45450     [Daisy Asquith]  \n",
       "\n",
       "[45451 rows x 20 columns]"
      ]
     },
     "execution_count": 361,
     "metadata": {},
     "output_type": "execute_result"
    }
   ],
   "source": [
    "df_merged"
   ]
  },
  {
   "cell_type": "code",
   "execution_count": 362,
   "metadata": {},
   "outputs": [],
   "source": [
    "df_merged['original_language'] = df['original_language'].fillna('')\n",
    "df_merged['overview'] = df['overview'].fillna('')\n",
    "df_merged['production_countries'] = df['production_countries'].fillna('vacio')\n",
    "df_merged['original_language'] = df_merged['original_language'].fillna('')"
   ]
  },
  {
   "cell_type": "code",
   "execution_count": 363,
   "metadata": {},
   "outputs": [],
   "source": [
    "df_merged.to_csv('df_limpio.csv', index=False)"
   ]
  },
  {
   "cell_type": "code",
   "execution_count": 364,
   "metadata": {},
   "outputs": [],
   "source": [
    "df_pruebas = pd.read_csv('df_limpio.csv')"
   ]
  },
  {
   "attachments": {},
   "cell_type": "markdown",
   "metadata": {},
   "source": [
    "def peliculas_idioma( Idioma: str ): Se ingresa un idioma (como están escritos en el dataset, no hay que traducirlos!). Debe devolver la cantidad de películas producidas en ese idioma.\n",
    "                    Ejemplo de retorno: X cantidad de películas fueron estrenadas en idioma"
   ]
  },
  {
   "cell_type": "code",
   "execution_count": 367,
   "metadata": {},
   "outputs": [
    {
     "data": {
      "text/plain": [
       "32192"
      ]
     },
     "execution_count": 367,
     "metadata": {},
     "output_type": "execute_result"
    }
   ],
   "source": [
    "#df_pruebas['original_language'] = df_pruebas['original_language'].fillna('')\n",
    "\n",
    "def buscar_peliculas_por_idioma(Idioma):\n",
    "    # Filtrar el DataFrame por el idioma dado\n",
    "    peliculas_filtradas = df_pruebas[df_pruebas['original_language'].apply(lambda x: pd.notna(x) and Idioma in x)]\n",
    "    # Obtener una lista de los nombres de las películas filtradas\n",
    "    nombres_peliculas = peliculas_filtradas['original_language'].count()\n",
    "    return nombres_peliculas\n",
    "\n",
    "buscar_peliculas_por_idioma('en')\n",
    "\n"
   ]
  },
  {
   "attachments": {},
   "cell_type": "markdown",
   "metadata": {},
   "source": [
    "def peliculas_duracion( Pelicula: str ): Se ingresa una pelicula. Debe devolver la la duracion y el año.\n",
    "                    Ejemplo de retorno: X . Duración: x. Año: xx"
   ]
  },
  {
   "cell_type": "code",
   "execution_count": 309,
   "metadata": {},
   "outputs": [
    {
     "name": "stdout",
     "output_type": "stream",
     "text": [
      "Año de estreno: 1995\n",
      "Duración: 78.0\n"
     ]
    }
   ],
   "source": [
    "def obtener_info_pelicula(nombre_pelicula):\n",
    "    # Filtrar el DataFrame por el nombre de la película\n",
    "    filtro = df_pruebas['title'] == nombre_pelicula\n",
    "    resultado = df_pruebas.loc[filtro, ['release_date', 'runtime']]\n",
    "\n",
    "    # Obtener el año de estreno y la duración\n",
    "    año_estreno = resultado['release_date'].values[0].split('-')[0]\n",
    "    duracion = resultado['runtime'].values[0]\n",
    "\n",
    "    # Retornar el año de estreno y la duración como diccionario\n",
    "    return {'año_estreno': año_estreno, 'duracion': duracion}\n",
    "\n",
    "info_pelicula = obtener_info_pelicula('Balto')\n",
    "print(\"Año de estreno:\", info_pelicula['año_estreno'])\n",
    "print(\"Duración:\", info_pelicula['duracion'])"
   ]
  },
  {
   "attachments": {},
   "cell_type": "markdown",
   "metadata": {},
   "source": [
    "def franquicia( Franquicia: str ): Se ingresa la franquicia, retornando la cantidad de peliculas, ganancia total y promedio\n",
    "                    Ejemplo de retorno: La franquicia X posee X peliculas, una ganancia total de x y una ganancia"
   ]
  },
  {
   "cell_type": "code",
   "execution_count": 311,
   "metadata": {},
   "outputs": [
    {
     "name": "stdout",
     "output_type": "stream",
     "text": [
      "Número de películas: 26\n",
      "Monto total de ganancias: 7106970239.0\n",
      "Promedio de ganancias: 273345009.1923077\n"
     ]
    }
   ],
   "source": [
    "def obtener_estadisticas_franquicia(franquicia):\n",
    "    # Filtrar el DataFrame por la franquicia dada\n",
    "    peliculas_franquicia = df_pruebas[df_pruebas['belongs_to_collection'] == franquicia]\n",
    "\n",
    "    # Calcular el número de películas\n",
    "    num_peliculas = len(peliculas_franquicia)\n",
    "\n",
    "    # Calcular el monto total de revenue\n",
    "    monto_total_revenue = peliculas_franquicia['revenue'].sum()\n",
    "\n",
    "    # Calcular el promedio de revenue\n",
    "    promedio_revenue = peliculas_franquicia['revenue'].mean()\n",
    "\n",
    "    # Retornar las estadísticas como un diccionario\n",
    "    return {'numero_peliculas': num_peliculas, 'monto_total_revenue': monto_total_revenue, 'promedio_revenue': promedio_revenue}\n",
    "\n",
    "estadisticas = obtener_estadisticas_franquicia('James Bond Collection')\n",
    "print(\"Número de películas:\", estadisticas['numero_peliculas'])\n",
    "print(\"Monto total de ganancias:\", estadisticas['monto_total_revenue'])\n",
    "print(\"Promedio de ganancias:\", estadisticas['promedio_revenue'])"
   ]
  },
  {
   "attachments": {},
   "cell_type": "markdown",
   "metadata": {},
   "source": [
    "def peliculas_pais( Pais: str ): Se ingresa un país (como están escritos en el dataset, no hay que traducirlos!), retornando la cantidad de peliculas producidas en el mismo.\n",
    "                    Ejemplo de retorno: Se produjeron X películas en el país X"
   ]
  },
  {
   "cell_type": "code",
   "execution_count": 320,
   "metadata": {},
   "outputs": [
    {
     "name": "stdout",
     "output_type": "stream",
     "text": [
      "Cantidad de películas: 329\n"
     ]
    }
   ],
   "source": [
    "def contar_peliculas_por_pais(pais):\n",
    "    # Filtrar el DataFrame por el país dado, excluyendo valores NaN\n",
    "    peliculas_pais = df_pruebas[df_pruebas['production_countries'].apply(lambda x: pd.notna(x) and pais in x)]\n",
    "\n",
    "    # Contar la cantidad de películas\n",
    "    cantidad_peliculas = len(peliculas_pais)\n",
    "\n",
    "    return cantidad_peliculas\n",
    "\n",
    "\n",
    "cantidad_peliculas = contar_peliculas_por_pais('Mexico')\n",
    "print(\"Cantidad de películas:\", cantidad_peliculas)"
   ]
  },
  {
   "attachments": {},
   "cell_type": "markdown",
   "metadata": {},
   "source": [
    "def productoras_exitosas( Productora: str ): Se ingresa la productora, entregandote el revunue total y la cantidad de peliculas que realizo.\n",
    "                    Ejemplo de retorno: La productora X ha tenido un revenue de x"
   ]
  },
  {
   "cell_type": "code",
   "execution_count": 330,
   "metadata": {},
   "outputs": [
    {
     "name": "stdout",
     "output_type": "stream",
     "text": [
      "Número de películas: 52\n",
      "Monto total de ganancias: 11188533734.0\n"
     ]
    }
   ],
   "source": [
    "def obtener_estadisticas_productora(productora):\n",
    "    # Filtrar el DataFrame por la productora dada\n",
    "    peliculas_productora = df_pruebas[df_pruebas['production_companies'].apply(lambda x: pd.notna(x) and productora in x)]\n",
    "\n",
    "    # Contar el número de películas\n",
    "    num_peliculas = len(peliculas_productora)\n",
    "\n",
    "    # Calcular el revenue total\n",
    "    revenue_total = peliculas_productora['revenue'].sum()\n",
    "\n",
    "    return {'numero_peliculas': num_peliculas, 'revenue_total': revenue_total}\n",
    "\n",
    "\n",
    "\n",
    "estadisticas_productora = obtener_estadisticas_productora('Pixar Animation Studios')\n",
    "print(\"Número de películas:\", estadisticas_productora['numero_peliculas'])\n",
    "print(\"Monto total de ganancias:\", estadisticas_productora['revenue_total'])\n",
    "\n"
   ]
  },
  {
   "attachments": {},
   "cell_type": "markdown",
   "metadata": {},
   "source": [
    "def get_director( nombre_director ): Se ingresa el nombre de un director que se encuentre dentro de un dataset debiendo devolver el éxito del mismo medido a través del retorno. Además, deberá devolver el nombre de cada película con la fecha de lanzamiento, retorno individual, costo y ganancia de la misma, en formato lista."
   ]
  },
  {
   "cell_type": "code",
   "execution_count": 337,
   "metadata": {},
   "outputs": [
    {
     "name": "stdout",
     "output_type": "stream",
     "text": [
      "Suma de returns: 46.647748199526596\n",
      "Películas en las que trabajó:\n",
      "['Four Rooms', '1995-12-09', 1.075, 4000000, 4300000.0]\n",
      "['From Dusk Till Dawn', '1996-01-19', 1.359821894736842, 19000000, 25836616.0]\n",
      "['Desperado', '1995-08-25', 3.6293492857142855, 7000000, 25405445.0]\n",
      "['The Faculty', '1998-12-25', 2.6855547333333334, 15000000, 40283321.0]\n",
      "['El Mariachi', '1992-09-04', 9.276909090909092, 220000, 2040920.0]\n",
      "['Spy Kids', '2001-03-18', 4.226690857142857, 35000000, 147934180.0]\n",
      "['Spy Kids 2: The Island of Lost Dreams', '2002-08-07', 3.1506146842105265, 38000000, 119723358.0]\n",
      "['Spy Kids 3-D: Game Over', '2003-07-25', 5.184525842105264, 38000000, 197011982.0]\n",
      "['Once Upon a Time in Mexico', '2003-09-11', 3.3857097241379317, 29000000, 98185582.0]\n",
      "['Sin City', '2005-04-01', 3.9683455, 40000000, 158733820.0]\n",
      "['The Adventures of Sharkboy and Lavagirl', '2005-06-10', 1.38851932, 50000000, 69425966.0]\n",
      "['Planet Terror', '2007-04-06', 0.0, 0, 0.0]\n",
      "['Shorts', '2009-08-21', 0.7243127, 40000000, 28972508.0]\n",
      "['Roadracers', '1994-07-22', 0.0, 1000000, 0.0]\n",
      "['Machete', '2010-09-01', 1.56639495, 20000000, 31327899.0]\n",
      "['Spy Kids: All the Time in the World', '2011-08-18', 3.1690485185185184, 27000000, 85564310.0]\n",
      "['Machete Kills', '2013-09-12', 1.2506800833333334, 12000000, 15008161.0]\n",
      "['Sin City: A Dame to Kill For', '2014-08-20', 0.6062710153846154, 65000000, 39407616.0]\n"
     ]
    }
   ],
   "source": [
    "def obtener_estadisticas_director(nombre_director):\n",
    "\n",
    "    peliculas_director = df_pruebas[df_pruebas['director'].apply(lambda x: pd.notna(x) and nombre_director in x)]\n",
    "\n",
    "    # Calcular la suma de returns\n",
    "    suma_returns = peliculas_director['return'].sum()\n",
    "\n",
    "    # Obtener la lista de películas y sus detalles\n",
    "    peliculas = peliculas_director[['title', 'release_date', 'return', 'budget', 'revenue']].values.tolist()\n",
    "\n",
    "    return suma_returns, peliculas\n",
    "\n",
    "nombre_director = \"Robert Rodriguez\"\n",
    "suma_returns, peliculas = obtener_estadisticas_director(nombre_director)\n",
    "print(\"Suma de returns:\", suma_returns)\n",
    "print(\"Películas en las que trabajó:\")\n",
    "for pelicula in peliculas:\n",
    "    print(pelicula)"
   ]
  }
 ],
 "metadata": {
  "kernelspec": {
   "display_name": "proyecto1",
   "language": "python",
   "name": "python3"
  },
  "language_info": {
   "codemirror_mode": {
    "name": "ipython",
    "version": 3
   },
   "file_extension": ".py",
   "mimetype": "text/x-python",
   "name": "python",
   "nbconvert_exporter": "python",
   "pygments_lexer": "ipython3",
   "version": "3.11.3"
  },
  "orig_nbformat": 4
 },
 "nbformat": 4,
 "nbformat_minor": 2
}
